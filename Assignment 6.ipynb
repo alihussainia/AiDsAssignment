{
 "cells": [
  {
   "cell_type": "code",
   "execution_count": null,
   "metadata": {},
   "outputs": [],
   "source": [
    "\"\"\"Mimic pyquick exercise -- optional extra exercise.\n",
    "Python Class\n",
    "\n",
    "Read in the file specified on the command line.\n",
    "Do a simple split() on whitespace to obtain all the words in the file.\n",
    "Rather than read the file line by line, it's easier to read\n",
    "it into one giant string and split it once.\n",
    "\n",
    "Build a \"mimic\" dict that maps each word that appears in the file\n",
    "to a list of all the words that immediately follow that word in the file.\n",
    "The list of words can be be in any order and should include\n",
    "duplicates. So for example the key \"and\" might have the list\n",
    "[\"then\", \"best\", \"then\", \"after\", ...] listing\n",
    "all the words which came after \"and\" in the text.\n",
    "We'll say that the empty string is what comes before\n",
    "the first word in the file.\n",
    "\n",
    "With the mimic dict, it's fairly easy to emit random\n",
    "text that mimics the original. Print a word, then look\n",
    "up what words might come next and pick one at random as\n",
    "the next work.\n",
    "Use the empty string as the first word to prime things.\n",
    "If we ever get stuck with a word that is not in the dict,\n",
    "go back to the empty string to keep things moving.\n",
    "\n",
    "Note: the standard python module 'random' includes a\n",
    "random.choice(list) method which picks a random element\n",
    "from a non-empty list.\n",
    "\n",
    "For fun, feed your program to itself as input.\n",
    "Could work on getting it to put in linebreaks around 70\n",
    "columns, so the output looks better.\n",
    "\n",
    "\"\"\"\n",
    "\n",
    "import random\n",
    "import sys\n",
    "\n",
    "\n",
    "def mimic_dict(filename):\n",
    "  \"\"\"Returns mimic dict mapping each word to list of words which follow it.\"\"\"\n",
    "  # +++your code here+++\n",
    "  return\n",
    "\n",
    "\n",
    "def print_mimic(mimic_dict, word):\n",
    "  \"\"\"Given mimic dict and start word, prints 200 random words.\"\"\"\n",
    "  # +++your code here+++\n",
    "  return\n",
    "\n",
    "\n",
    "# Provided main(), calls mimic_dict() and mimic()\n",
    "def main():\n",
    "  if len(sys.argv) != 2:\n",
    "    print 'usage: ./mimic.py file-to-read'\n",
    "    sys.exit(1)\n",
    "\n",
    "  dict = mimic_dict(sys.argv[1])\n",
    "  print_mimic(dict, '')\n",
    "\n",
    "\n",
    "if __name__ == '__main__':\n",
    "  main()\n"
   ]
  },
  {
   "cell_type": "code",
   "execution_count": 426,
   "metadata": {},
   "outputs": [],
   "source": [
    "words = \"Do a simple split() on whitespace to obtain all the words in the file\"\n",
    "def mimic_dict(words):\n",
    "    words = words.split()\n",
    "    mimic_dict = {}\n",
    "    prev = \"word\"\n",
    "    for word in words:\n",
    "        if not prev in mimic_dict:\n",
    "            mimic_dict[prev] = [word]\n",
    "        else:\n",
    "            mimic_dict[prev].append(word)\n",
    "    prev = word\n",
    "    return mimic_dict"
   ]
  },
  {
   "cell_type": "code",
   "execution_count": 427,
   "metadata": {},
   "outputs": [
    {
     "data": {
      "text/plain": [
       "{'word': ['Do',\n",
       "  'a',\n",
       "  'simple',\n",
       "  'split()',\n",
       "  'on',\n",
       "  'whitespace',\n",
       "  'to',\n",
       "  'obtain',\n",
       "  'all',\n",
       "  'the',\n",
       "  'words',\n",
       "  'in',\n",
       "  'the',\n",
       "  'file']}"
      ]
     },
     "execution_count": 427,
     "metadata": {},
     "output_type": "execute_result"
    }
   ],
   "source": [
    "mimic_dict(words)\n"
   ]
  },
  {
   "cell_type": "code",
   "execution_count": null,
   "metadata": {},
   "outputs": [],
   "source": [
    "'''\n",
    "def print_mimic(mimic_dict(words), word):\n",
    "    for unused_i in range(200):\n",
    "        nexts = mimic_dict(words).get(word)\n",
    "        print(word, \"nexts = \", nexts)          # Returns None if not found\n",
    "    if not nexts:\n",
    "        nexts = mimic_dict(words)['4']              # Fallback to '' if not found\n",
    "        word = random.choice(nexts)\n",
    "  # The 'unused_' prefix turns off the lint warning about the unused variable.\n",
    "  '''"
   ]
  },
  {
   "cell_type": "code",
   "execution_count": 428,
   "metadata": {},
   "outputs": [],
   "source": [
    "import random\n",
    "\n",
    "def print_mimic(mimic_dict, word):    \n",
    "\n",
    "    l = []\n",
    "    for i in range(200):\n",
    "        word = random.choice(mimic_dict(words)).get(word, '')\n",
    "        l.append(word)\n",
    "\n",
    "    print(' '.join(l))   "
   ]
  },
  {
   "cell_type": "code",
   "execution_count": null,
   "metadata": {},
   "outputs": [],
   "source": [
    "   "
   ]
  },
  {
   "cell_type": "code",
   "execution_count": null,
   "metadata": {
    "scrolled": false
   },
   "outputs": [],
   "source": []
  },
  {
   "cell_type": "code",
   "execution_count": null,
   "metadata": {},
   "outputs": [],
   "source": []
  },
  {
   "cell_type": "code",
   "execution_count": null,
   "metadata": {},
   "outputs": [],
   "source": []
  },
  {
   "cell_type": "code",
   "execution_count": null,
   "metadata": {},
   "outputs": [],
   "source": []
  },
  {
   "cell_type": "code",
   "execution_count": null,
   "metadata": {},
   "outputs": [],
   "source": []
  },
  {
   "cell_type": "code",
   "execution_count": null,
   "metadata": {},
   "outputs": [],
   "source": []
  },
  {
   "cell_type": "code",
   "execution_count": null,
   "metadata": {},
   "outputs": [],
   "source": []
  },
  {
   "cell_type": "code",
   "execution_count": null,
   "metadata": {},
   "outputs": [],
   "source": []
  },
  {
   "cell_type": "code",
   "execution_count": null,
   "metadata": {},
   "outputs": [],
   "source": []
  }
 ],
 "metadata": {
  "kernelspec": {
   "display_name": "Python 3",
   "language": "python",
   "name": "python3"
  },
  "language_info": {
   "codemirror_mode": {
    "name": "ipython",
    "version": 3
   },
   "file_extension": ".py",
   "mimetype": "text/x-python",
   "name": "python",
   "nbconvert_exporter": "python",
   "pygments_lexer": "ipython3",
   "version": "3.6.5"
  }
 },
 "nbformat": 4,
 "nbformat_minor": 2
}

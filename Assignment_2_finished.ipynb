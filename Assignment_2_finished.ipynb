{
 "cells": [
  {
   "cell_type": "markdown",
   "metadata": {},
   "source": [
    "<h3>Q no 1:  Write a python program to find number of occurrences of given number in a list with out using built-in methods</h3>\n",
    "<h4>**1 generate a list of some random num which is repeated again and again</h4>\n",
    "<h4>**2 take user input any number</h4>\n",
    "<h4>**3 find the number of occurrences of that num in your list</h4>\n",
    "<h4>**4 print some message to user with that result</h4>"
   ]
  },
  {
   "cell_type": "code",
   "execution_count": 111,
   "metadata": {},
   "outputs": [],
   "source": [
    "numbers = [5, 5, 5, 5, 5,5]"
   ]
  },
  {
   "cell_type": "code",
   "execution_count": 114,
   "metadata": {},
   "outputs": [
    {
     "name": "stdout",
     "output_type": "stream",
     "text": [
      "Entered number 5\n",
      "Times repeated in the list  6\n"
     ]
    }
   ],
   "source": [
    "user_input = int(input(\"Entered number \"))\n",
    "times_repeated = numbers.count(user_input)\n",
    "print(\"Times repeated in the list \", str(times_repeated) )"
   ]
  },
  {
   "cell_type": "markdown",
   "metadata": {},
   "source": [
    "<h3>Q no 2:   [\"www.zframez.com\", \"www.wikipedia.org\", \"www.asp.net\", \"www.abcd.in\"]\n",
    "<br/><br/><br/><br/><br/>\n",
    "Write a python program to print website suffixes (com , org , net ,in) from this list\n",
    "</h3>"
   ]
  },
  {
   "cell_type": "code",
   "execution_count": 592,
   "metadata": {},
   "outputs": [],
   "source": [
    "site =  [\"www.zframez.com\" ,\"www.wikipedia.org\" , \"www.asp.net\" , \"www.abcd.in\"]\n",
    "z = []\n",
    "q = site.index(\"www.zframez.com\")\n",
    "\n",
    "for i in site:\n",
    "    x = site[q].split(\".\")\n",
    "    z.append(x.pop(2))\n",
    "    q = q + 1\n",
    "\n",
    "# LOGIC:\n",
    "\n",
    "#x = site[0].split(\".\")\n",
    "#z.append(x.pop(2))\n",
    "\n",
    "\n",
    "#x = site[1].split(\".\")\n",
    "#z.append(x.pop(2))\n",
    "\n",
    "\n",
    "#x = site[2].split(\".\")\n",
    "#z.append(x.pop(2))\n",
    "\n",
    "\n",
    "#x = site[3].split(\".\")\n",
    "#z.append(x.pop(2))\n"
   ]
  },
  {
   "cell_type": "code",
   "execution_count": 593,
   "metadata": {
    "scrolled": true
   },
   "outputs": [
    {
     "name": "stdout",
     "output_type": "stream",
     "text": [
      "['com', 'org', 'net', 'in']\n"
     ]
    }
   ],
   "source": [
    "print(z)"
   ]
  },
  {
   "cell_type": "markdown",
   "metadata": {},
   "source": [
    "<h3> Q no 3 : Write a program which can compute the factorial of a given numbers.</h3>\n",
    "<br/>\n",
    "<br/>\n",
    "<h4>**1 first take user input any number</h4>\n",
    "<h4>**2 calculate factorial of that input and then print the result to user</h4>"
   ]
  },
  {
   "cell_type": "code",
   "execution_count": 31,
   "metadata": {},
   "outputs": [
    {
     "name": "stdout",
     "output_type": "stream",
     "text": [
      "Enter the number 3\n"
     ]
    }
   ],
   "source": [
    "u_input = int(input(\"Enter the number \"))"
   ]
  },
  {
   "cell_type": "code",
   "execution_count": 32,
   "metadata": {},
   "outputs": [],
   "source": [
    "factorial = 1"
   ]
  },
  {
   "cell_type": "code",
   "execution_count": 33,
   "metadata": {},
   "outputs": [],
   "source": [
    "if u_input < 0:\n",
    "    print(\"Factorial does not exist\")\n",
    "elif u_input == 0:\n",
    "    print(\"1\")\n",
    "else:\n",
    "    for i in range(1, u_input + 1):\n",
    "        factorial = factorial * i\n",
    "\n",
    "        #LOGIC:\n",
    "\n",
    "#u_input = 3\n",
    "\n",
    "#range will be 1,2,3 <== print(i)\n",
    "\n",
    "#fact = 1\n",
    "\n",
    "#loop of fact\n",
    "#fact = fact * i \n",
    "\n",
    "#fact = 1 * 1 = 1\n",
    "#fact = 1 * 2 = 2\n",
    "#fact = 2 * 3 = 6\n",
    "\n",
    "#so answer will be 6!\n",
    "\n",
    "\n",
    "\n",
    "\n",
    "     "
   ]
  },
  {
   "cell_type": "code",
   "execution_count": 34,
   "metadata": {},
   "outputs": [
    {
     "name": "stdout",
     "output_type": "stream",
     "text": [
      "6\n"
     ]
    }
   ],
   "source": [
    "print (factorial)"
   ]
  },
  {
   "cell_type": "markdown",
   "metadata": {},
   "source": [
    "<h3>Q 4 (a) :  If you could invite anyone, living or deceased, to dinner, who\n",
    "would you invite? Make a list that includes at least three people you’d like to\n",
    "invite to dinner. Then use your list to print a message to each person, inviting\n",
    "them to dinner.</h3>"
   ]
  },
  {
   "cell_type": "code",
   "execution_count": 322,
   "metadata": {},
   "outputs": [],
   "source": [
    "invitation = [\"Sir Qasim\",\"Sir Osama\",\"Sir Hamza\"]"
   ]
  },
  {
   "cell_type": "code",
   "execution_count": 323,
   "metadata": {
    "scrolled": false
   },
   "outputs": [
    {
     "name": "stdout",
     "output_type": "stream",
     "text": [
      "Mr. Sir Qasim, you are cardially invited to be my guest\n",
      "Mr. Sir Osama, you are cardially invited to be my guest\n",
      "Mr. Sir Hamza, you are cardially invited to be my guest\n"
     ]
    }
   ],
   "source": [
    "for i in invitation:\n",
    "    print(\"Mr.\"+ \" \" + i +\",\"+ \" \" + \"you are cardially invited to be my guest\")"
   ]
  },
  {
   "cell_type": "code",
   "execution_count": null,
   "metadata": {},
   "outputs": [],
   "source": [
    "\n",
    "    \n",
    "        "
   ]
  },
  {
   "cell_type": "markdown",
   "metadata": {},
   "source": [
    "<h3>Q 4 (b) : You just heard that one of your guests can’t make the\n",
    "dinner, so you need to send out a new set of invitations. You’ll have to think of\n",
    "someone else to invite.<br/></br><br/>\n",
    "•\t Start with your program from Q 4 (a). Add a print statement at the\n",
    "end of your program stating the name of the guest who can’t make it.<br/></br><br/>\n",
    "•\t Modify your list, replacing the name of the guest who can’t make it with\n",
    "the name of the new person you are inviting.<br/></br><br/>\n",
    "•\t Print a second set of invitation messages, one for each person who is still\n",
    "in your list.<br/></br><br/></h3>"
   ]
  },
  {
   "cell_type": "code",
   "execution_count": 324,
   "metadata": {},
   "outputs": [
    {
     "name": "stdout",
     "output_type": "stream",
     "text": [
      "['Sir Qasim', 'Sir Osama', 'Sir Hamza']\n",
      "Mr. Sir Qasim, you are cardially invited to be my guest\n",
      "Mr. Sir Osama, you are cardially invited to be my guest\n",
      "Mr. Sir Hamza,  will not join us\n"
     ]
    }
   ],
   "source": [
    "print(invitation)\n",
    "no_coming = \"Sir Hamza\"\n",
    "p = []\n",
    "\n",
    "for i in invitation:\n",
    "    if i != no_coming:\n",
    "        print(\"Mr.\"+ \" \" + i +\",\"+ \" \" + \"you are cardially invited to be my guest\")\n",
    "for i in invitation:\n",
    "    if i == no_coming:\n",
    "        print(\"Mr.\"+ \" \" + i +\",\"+ \" \" + \" will not join us\")"
   ]
  },
  {
   "cell_type": "code",
   "execution_count": 325,
   "metadata": {},
   "outputs": [],
   "source": [
    "invitation[2] = \"Sir Zia\" "
   ]
  },
  {
   "cell_type": "code",
   "execution_count": 326,
   "metadata": {},
   "outputs": [
    {
     "name": "stdout",
     "output_type": "stream",
     "text": [
      "Mr. Sir Qasim, you are cardially invited to be my guest\n",
      "Mr. Sir Osama, you are cardially invited to be my guest\n",
      "Mr. Sir Zia, you are cardially invited to be my guest\n"
     ]
    }
   ],
   "source": [
    "for i in invitation:\n",
    "    print(\"Mr.\"+ \" \" + i +\",\"+ \" \" + \"you are cardially invited to be my guest\")"
   ]
  },
  {
   "cell_type": "markdown",
   "metadata": {},
   "source": [
    "<h3>Q 4 (c) : You just found a bigger dinner table, so now more space is\n",
    "available. Think of three more guests to invite to dinner.<br/></br><br/>\n",
    "•\t Start with your program from Q 4 (a) and (b) Add a print\n",
    "statement to the end of your program informing people that you found a\n",
    "bigger dinner table.<br/></br><br/>\n",
    "•\t Use insert() to add one new guest to the beginning of your list.<br/></br><br/>\n",
    "•\t Use insert() to add one new guest to the middle of your list.<br/></br><br/>\n",
    "•\t Use append() to add one new guest to the end of your list.<br/></br><br/>\n",
    "•\t Print a new set of invitation messages, one for each person in your list.<br/></br><br/></h3>"
   ]
  },
  {
   "cell_type": "code",
   "execution_count": 327,
   "metadata": {},
   "outputs": [
    {
     "name": "stdout",
     "output_type": "stream",
     "text": [
      "Hey,Sir Qasim. Good news! I found a bigger dining table\n",
      "Hey,Sir Osama. Good news! I found a bigger dining table\n",
      "Hey,Sir Zia. Good news! I found a bigger dining table\n"
     ]
    }
   ],
   "source": [
    "for i in invitation:\n",
    "    print(\"Hey,\"+i+\". Good news! I found a bigger dining table\")"
   ]
  },
  {
   "cell_type": "code",
   "execution_count": 328,
   "metadata": {},
   "outputs": [],
   "source": [
    "invitation.insert(0, \"Sir Zeeshan\")\n",
    "invitation.insert(2, \"Sir Javed\")\n",
    "invitation.append(\"Sir Chaudhry\")"
   ]
  },
  {
   "cell_type": "code",
   "execution_count": 329,
   "metadata": {},
   "outputs": [
    {
     "name": "stdout",
     "output_type": "stream",
     "text": [
      "Sir Zeeshan,you are cardially invited on dinner\n",
      "Sir Qasim,you are cardially invited on dinner\n",
      "Sir Javed,you are cardially invited on dinner\n",
      "Sir Osama,you are cardially invited on dinner\n",
      "Sir Zia,you are cardially invited on dinner\n",
      "Sir Chaudhry,you are cardially invited on dinner\n"
     ]
    }
   ],
   "source": [
    "for i in invitation:\n",
    "    print(i+\",you are cardially invited on dinner\")"
   ]
  },
  {
   "cell_type": "markdown",
   "metadata": {},
   "source": [
    "<h5> Q 5 : Here you have some data in variable below, your task is to make a list of specific word Surah then print the list and length of list</h5>\n"
   ]
  },
  {
   "cell_type": "code",
   "execution_count": 611,
   "metadata": {},
   "outputs": [],
   "source": [
    "data = [\"Sura I Who believe in the Unseen, Sura Are steadfast in prayer, And spend Sura out of what We Have provided for them;\"] "
   ]
  },
  {
   "cell_type": "code",
   "execution_count": 622,
   "metadata": {},
   "outputs": [
    {
     "name": "stdout",
     "output_type": "stream",
     "text": [
      "['Sura']\n",
      "['Sura', 'Sura']\n",
      "['Sura', 'Sura', 'Sura']\n"
     ]
    }
   ],
   "source": [
    "x = data[0].split(\",\")\n",
    "x = data[0].split(\" \")\n",
    "l = []\n",
    "for i in x:\n",
    "    if i == \"Sura\":\n",
    "        m = x.index(\"Sura\")\n",
    "        l.append(x.pop(m))\n",
    "        print(l)\n",
    "#Logic\n",
    "# If iteration will catch Sura word \n",
    "# It will find it's index no and assign it to m\n",
    "# Then it will desect it from the x list and will append in l\n",
    "# finally it will result in i = 1 as index[0] list\n",
    "# Then i =2 as index[1] list\n",
    "# and on finding the last word, it will result in index[3] list\n",
    "\n",
    "#NOTE:\n",
    "# If l = [] equation is placed within the loop it will result in only, index[0] list"
   ]
  },
  {
   "cell_type": "code",
   "execution_count": 623,
   "metadata": {},
   "outputs": [
    {
     "data": {
      "text/plain": [
       "['Sura', 'Sura', 'Sura']"
      ]
     },
     "execution_count": 623,
     "metadata": {},
     "output_type": "execute_result"
    }
   ],
   "source": [
    "l\n",
    "    \n",
    "    "
   ]
  },
  {
   "cell_type": "code",
   "execution_count": 624,
   "metadata": {},
   "outputs": [
    {
     "data": {
      "text/plain": [
       "3"
      ]
     },
     "execution_count": 624,
     "metadata": {},
     "output_type": "execute_result"
    }
   ],
   "source": [
    "len(l)"
   ]
  },
  {
   "cell_type": "code",
   "execution_count": null,
   "metadata": {},
   "outputs": [],
   "source": []
  },
  {
   "cell_type": "code",
   "execution_count": null,
   "metadata": {},
   "outputs": [],
   "source": []
  },
  {
   "cell_type": "code",
   "execution_count": null,
   "metadata": {},
   "outputs": [],
   "source": []
  }
 ],
 "metadata": {
  "kernelspec": {
   "display_name": "Python 3",
   "language": "python",
   "name": "python3"
  },
  "language_info": {
   "codemirror_mode": {
    "name": "ipython",
    "version": 3
   },
   "file_extension": ".py",
   "mimetype": "text/x-python",
   "name": "python",
   "nbconvert_exporter": "python",
   "pygments_lexer": "ipython3",
   "version": "3.6.5"
  }
 },
 "nbformat": 4,
 "nbformat_minor": 2
}

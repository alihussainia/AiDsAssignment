{
 "cells": [
  {
   "cell_type": "code",
   "execution_count": 377,
   "metadata": {},
   "outputs": [],
   "source": [
    "def print_string_alphabet(H):\n",
    "    H = H.lower()\n",
    "    H = sorted(H)\n",
    "    K = list(set(H))\n",
    "    J = sorted(K)\n",
    "    for x in J:\n",
    "        x = x.lower()\n",
    "        H.count(x)\n",
    "        print((x , H.count(x)))\n",
    "\n",
    "#put the string name into function's value while calling and it will print the each word with its count."
   ]
  },
  {
   "cell_type": "code",
   "execution_count": 378,
   "metadata": {},
   "outputs": [],
   "source": [
    "lst_fun = \"The quick brown fox jumps over the lazy dog\""
   ]
  },
  {
   "cell_type": "code",
   "execution_count": 379,
   "metadata": {},
   "outputs": [
    {
     "name": "stdout",
     "output_type": "stream",
     "text": [
      "(' ', 8)\n",
      "('a', 1)\n",
      "('b', 1)\n",
      "('c', 1)\n",
      "('d', 1)\n",
      "('e', 3)\n",
      "('f', 1)\n",
      "('g', 1)\n",
      "('h', 2)\n",
      "('i', 1)\n",
      "('j', 1)\n",
      "('k', 1)\n",
      "('l', 1)\n",
      "('m', 1)\n",
      "('n', 1)\n",
      "('o', 4)\n",
      "('p', 1)\n",
      "('q', 1)\n",
      "('r', 2)\n",
      "('s', 1)\n",
      "('t', 2)\n",
      "('u', 2)\n",
      "('v', 1)\n",
      "('w', 1)\n",
      "('x', 1)\n",
      "('y', 1)\n",
      "('z', 1)\n"
     ]
    }
   ],
   "source": [
    "print_string_alphabet(lst_fun)"
   ]
  },
  {
   "cell_type": "code",
   "execution_count": 575,
   "metadata": {},
   "outputs": [],
   "source": [
    "Z = \"The quick brown fox jumps over the lazy dog\""
   ]
  },
  {
   "cell_type": "code",
   "execution_count": 576,
   "metadata": {},
   "outputs": [],
   "source": [
    "def print_word(H):\n",
    "    H = H.lower()\n",
    "    H = H.split(\" \")\n",
    "    for x in H:\n",
    "        print(x, H.count(x))"
   ]
  },
  {
   "cell_type": "code",
   "execution_count": 577,
   "metadata": {},
   "outputs": [
    {
     "name": "stdout",
     "output_type": "stream",
     "text": [
      "the 2\n",
      "quick 1\n",
      "brown 1\n",
      "fox 1\n",
      "jumps 1\n",
      "over 1\n",
      "the 2\n",
      "lazy 1\n",
      "dog 1\n"
     ]
    }
   ],
   "source": [
    "print_word(Z)"
   ]
  },
  {
   "cell_type": "code",
   "execution_count": 784,
   "metadata": {},
   "outputs": [],
   "source": [
    "H = \"The quick brown fox jumps over the lazy dog ee ee ee\" "
   ]
  },
  {
   "cell_type": "code",
   "execution_count": 785,
   "metadata": {},
   "outputs": [
    {
     "name": "stdout",
     "output_type": "stream",
     "text": [
      "ee 3\n",
      "the 2\n",
      "quick 1\n",
      "over 1\n",
      "lazy 1\n",
      "jumps 1\n",
      "fox 1\n",
      "dog 1\n",
      "brown 1\n"
     ]
    }
   ],
   "source": [
    "H = H.lower()\n",
    "H = H.split(\" \")\n",
    "for count, x in sorted(((H.count(x), x) for x in set(H)), reverse=True):\n",
    "    print(x, count)\n",
    "### I don't get it and found this for function on internet, please make it clear how we can do this!"
   ]
  },
  {
   "cell_type": "code",
   "execution_count": null,
   "metadata": {},
   "outputs": [],
   "source": []
  },
  {
   "cell_type": "code",
   "execution_count": null,
   "metadata": {},
   "outputs": [],
   "source": []
  },
  {
   "cell_type": "code",
   "execution_count": null,
   "metadata": {},
   "outputs": [],
   "source": []
  },
  {
   "cell_type": "code",
   "execution_count": null,
   "metadata": {},
   "outputs": [],
   "source": []
  },
  {
   "cell_type": "code",
   "execution_count": null,
   "metadata": {},
   "outputs": [],
   "source": []
  },
  {
   "cell_type": "code",
   "execution_count": null,
   "metadata": {},
   "outputs": [],
   "source": []
  },
  {
   "cell_type": "code",
   "execution_count": null,
   "metadata": {},
   "outputs": [],
   "source": []
  }
 ],
 "metadata": {
  "kernelspec": {
   "display_name": "Python 3",
   "language": "python",
   "name": "python3"
  },
  "language_info": {
   "codemirror_mode": {
    "name": "ipython",
    "version": 3
   },
   "file_extension": ".py",
   "mimetype": "text/x-python",
   "name": "python",
   "nbconvert_exporter": "python",
   "pygments_lexer": "ipython3",
   "version": "3.6.5"
  }
 },
 "nbformat": 4,
 "nbformat_minor": 2
}

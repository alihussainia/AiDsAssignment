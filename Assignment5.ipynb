{
 "cells": [
  {
   "cell_type": "code",
   "execution_count": 415,
   "metadata": {},
   "outputs": [
    {
     "data": {
      "text/plain": [
       "\"Python is an interpreted high-level programming language for general-purpose programming. Created by Guido van Rossum and first released in 1991, Python has a design philosophy that emphasizes code readability, notably using significant whitespace. It provides constructs that enable clear programming on both small and large scales.[27] In July 2018, Van Rossum stepped down as the leader in the language community after 30 years Python features a dynamic type system and automatic memory management. It supports multiple programming paradigms, including object-oriented, imperative, functional and procedural, and has a large and comprehensive standard library Python interpreters are available for many operating systems. CPython, the reference implementation of Python, is open source software and has a community-based development model, as do nearly all of Python's other implementations. Python and CPython are managed by the non-profit Python Software Foundation.\""
      ]
     },
     "execution_count": 415,
     "metadata": {},
     "output_type": "execute_result"
    }
   ],
   "source": [
    "My_Name = \"Python is an interpreted high-level programming language for general-purpose programming. Created by Guido van Rossum and first released in 1991, Python has a design philosophy that emphasizes code readability, notably using significant whitespace. It provides constructs that enable clear programming on both small and large scales.[27] In July 2018, Van Rossum stepped down as the leader in the language community after 30 years Python features a dynamic type system and automatic memory management. It supports multiple programming paradigms, including object-oriented, imperative, functional and procedural, and has a large and comprehensive standard library Python interpreters are available for many operating systems. CPython, the reference implementation of Python, is open source software and has a community-based development model, as do nearly all of Python's other implementations. Python and CPython are managed by the non-profit Python Software Foundation.\"\n",
    "My_Name"
   ]
  },
  {
   "cell_type": "code",
   "execution_count": 416,
   "metadata": {},
   "outputs": [],
   "source": [
    "def print_string_alphabet(H):\n",
    "    H = H.lower()\n",
    "    H = sorted(H)\n",
    "    K = list(set(H))\n",
    "    J = sorted(K) \n",
    "    count = {}\n",
    "    for x in J:\n",
    "        x = x.lower()\n",
    "        H.count(x)\n",
    "        count = {H.count(x)}\n",
    "        #count = l + count\n",
    "        print((x , H.count(x)))\n",
    "\n",
    "#put the string name into function's value while calling and it will print the each word with its count."
   ]
  },
  {
   "cell_type": "code",
   "execution_count": 417,
   "metadata": {},
   "outputs": [
    {
     "name": "stdout",
     "output_type": "stream",
     "text": [
      "(' ', 134)\n",
      "(\"'\", 1)\n",
      "(',', 10)\n",
      "('-', 5)\n",
      "('.', 7)\n",
      "('0', 2)\n",
      "('1', 3)\n",
      "('2', 2)\n",
      "('3', 1)\n",
      "('7', 1)\n",
      "('8', 1)\n",
      "('9', 2)\n",
      "('[', 1)\n",
      "(']', 1)\n",
      "('a', 79)\n",
      "('b', 10)\n",
      "('c', 21)\n",
      "('d', 32)\n",
      "('e', 84)\n",
      "('f', 14)\n",
      "('g', 25)\n",
      "('h', 28)\n",
      "('i', 49)\n",
      "('j', 2)\n",
      "('l', 33)\n",
      "('m', 36)\n",
      "('n', 69)\n",
      "('o', 56)\n",
      "('p', 39)\n",
      "('r', 54)\n",
      "('s', 47)\n",
      "('t', 62)\n",
      "('u', 20)\n",
      "('v', 8)\n",
      "('w', 4)\n",
      "('y', 27)\n",
      "('z', 1)\n"
     ]
    }
   ],
   "source": [
    "print_string_alphabet(My_Name)"
   ]
  },
  {
   "cell_type": "code",
   "execution_count": 418,
   "metadata": {},
   "outputs": [],
   "source": [
    "def print_word(My_Name):\n",
    "    \n",
    "    My_Name = My_Name.lower()\n",
    "    My_Name = My_Name.split()\n",
    "    J = list(set(My_Name))\n",
    "    \n",
    "    i = 0\n",
    "    l = [] \n",
    "    for x in J:\n",
    "        i = My_Name.count(x)\n",
    "        dik = (x , i)\n",
    "        l.append(dik)\n",
    "        set(l)\n",
    "    return l"
   ]
  },
  {
   "cell_type": "code",
   "execution_count": 419,
   "metadata": {},
   "outputs": [
    {
     "data": {
      "text/plain": [
       "[('library', 1),\n",
       " ('years', 1),\n",
       " ('as', 2),\n",
       " ('management.', 1),\n",
       " ('after', 1),\n",
       " ('many', 1),\n",
       " ('nearly', 1),\n",
       " ('constructs', 1),\n",
       " ('guido', 1),\n",
       " ('non-profit', 1),\n",
       " ('whitespace.', 1),\n",
       " ('general-purpose', 1),\n",
       " ('open', 1),\n",
       " ('july', 1),\n",
       " ('philosophy', 1),\n",
       " ('30', 1),\n",
       " ('notably', 1),\n",
       " ('type', 1),\n",
       " ('first', 1),\n",
       " ('do', 1),\n",
       " ('2018,', 1),\n",
       " ('functional', 1),\n",
       " ('scales.[27]', 1),\n",
       " ('it', 2),\n",
       " ('code', 1),\n",
       " ('other', 1),\n",
       " ('an', 1),\n",
       " ('emphasizes', 1),\n",
       " ('interpreters', 1),\n",
       " ('foundation.', 1),\n",
       " ('supports', 1),\n",
       " ('development', 1),\n",
       " ('managed', 1),\n",
       " ('cpython', 1),\n",
       " ('available', 1),\n",
       " ('high-level', 1),\n",
       " ('object-oriented,', 1),\n",
       " ('language', 2),\n",
       " ('paradigms,', 1),\n",
       " ('clear', 1),\n",
       " ('automatic', 1),\n",
       " ('the', 4),\n",
       " ('down', 1),\n",
       " ('memory', 1),\n",
       " ('significant', 1),\n",
       " ('design', 1),\n",
       " ('rossum', 2),\n",
       " ('in', 3),\n",
       " ('both', 1),\n",
       " ('system', 1),\n",
       " ('on', 1),\n",
       " ('community', 1),\n",
       " ('source', 1),\n",
       " ('standard', 1),\n",
       " ('comprehensive', 1),\n",
       " ('released', 1),\n",
       " ('model,', 1),\n",
       " ('readability,', 1),\n",
       " ('provides', 1),\n",
       " ('created', 1),\n",
       " ('software', 2),\n",
       " ('python', 6),\n",
       " ('features', 1),\n",
       " ('programming', 3),\n",
       " ('that', 2),\n",
       " ('for', 2),\n",
       " ('cpython,', 1),\n",
       " ('and', 8),\n",
       " ('including', 1),\n",
       " ('implementations.', 1),\n",
       " ('large', 2),\n",
       " ('leader', 1),\n",
       " ('has', 3),\n",
       " ('a', 4),\n",
       " ('van', 2),\n",
       " ('operating', 1),\n",
       " ('community-based', 1),\n",
       " ('systems.', 1),\n",
       " ('dynamic', 1),\n",
       " ('programming.', 1),\n",
       " ('procedural,', 1),\n",
       " ('is', 2),\n",
       " ('of', 2),\n",
       " ('imperative,', 1),\n",
       " ('1991,', 1),\n",
       " ('stepped', 1),\n",
       " ('small', 1),\n",
       " ('multiple', 1),\n",
       " ('reference', 1),\n",
       " ('using', 1),\n",
       " ('implementation', 1),\n",
       " ('python,', 1),\n",
       " ('by', 2),\n",
       " ('interpreted', 1),\n",
       " (\"python's\", 1),\n",
       " ('all', 1),\n",
       " ('are', 2),\n",
       " ('enable', 1)]"
      ]
     },
     "execution_count": 419,
     "metadata": {},
     "output_type": "execute_result"
    }
   ],
   "source": [
    "print_word(My_Name)"
   ]
  },
  {
   "cell_type": "code",
   "execution_count": 420,
   "metadata": {},
   "outputs": [],
   "source": [
    "def print_top(My_Name):\n",
    "    \n",
    "    print_word(My_Name)\n",
    "    \n",
    "    items = sorted(print_word(My_Name) , key=lambda x:x[1] ,reverse=True)\n",
    "    return items[:20]"
   ]
  },
  {
   "cell_type": "code",
   "execution_count": 421,
   "metadata": {},
   "outputs": [
    {
     "data": {
      "text/plain": [
       "[('and', 8),\n",
       " ('python', 6),\n",
       " ('the', 4),\n",
       " ('a', 4),\n",
       " ('in', 3),\n",
       " ('programming', 3),\n",
       " ('has', 3),\n",
       " ('as', 2),\n",
       " ('it', 2),\n",
       " ('language', 2),\n",
       " ('rossum', 2),\n",
       " ('software', 2),\n",
       " ('that', 2),\n",
       " ('for', 2),\n",
       " ('large', 2),\n",
       " ('van', 2),\n",
       " ('is', 2),\n",
       " ('of', 2),\n",
       " ('by', 2),\n",
       " ('are', 2)]"
      ]
     },
     "execution_count": 421,
     "metadata": {},
     "output_type": "execute_result"
    }
   ],
   "source": [
    "print_top(My_Name)\n"
   ]
  },
  {
   "cell_type": "code",
   "execution_count": null,
   "metadata": {},
   "outputs": [],
   "source": []
  },
  {
   "cell_type": "code",
   "execution_count": null,
   "metadata": {},
   "outputs": [],
   "source": []
  },
  {
   "cell_type": "code",
   "execution_count": null,
   "metadata": {},
   "outputs": [],
   "source": []
  },
  {
   "cell_type": "code",
   "execution_count": null,
   "metadata": {},
   "outputs": [],
   "source": []
  },
  {
   "cell_type": "code",
   "execution_count": 172,
   "metadata": {},
   "outputs": [],
   "source": []
  },
  {
   "cell_type": "code",
   "execution_count": null,
   "metadata": {},
   "outputs": [],
   "source": []
  },
  {
   "cell_type": "code",
   "execution_count": 191,
   "metadata": {},
   "outputs": [],
   "source": []
  },
  {
   "cell_type": "code",
   "execution_count": null,
   "metadata": {},
   "outputs": [],
   "source": []
  },
  {
   "cell_type": "code",
   "execution_count": null,
   "metadata": {},
   "outputs": [],
   "source": [
    "\n"
   ]
  },
  {
   "cell_type": "code",
   "execution_count": null,
   "metadata": {},
   "outputs": [],
   "source": []
  },
  {
   "cell_type": "code",
   "execution_count": null,
   "metadata": {},
   "outputs": [],
   "source": []
  },
  {
   "cell_type": "code",
   "execution_count": null,
   "metadata": {},
   "outputs": [],
   "source": []
  },
  {
   "cell_type": "code",
   "execution_count": null,
   "metadata": {},
   "outputs": [],
   "source": []
  },
  {
   "cell_type": "code",
   "execution_count": null,
   "metadata": {},
   "outputs": [],
   "source": []
  },
  {
   "cell_type": "code",
   "execution_count": null,
   "metadata": {},
   "outputs": [],
   "source": []
  },
  {
   "cell_type": "code",
   "execution_count": null,
   "metadata": {},
   "outputs": [],
   "source": [
    " "
   ]
  },
  {
   "cell_type": "code",
   "execution_count": null,
   "metadata": {},
   "outputs": [],
   "source": []
  },
  {
   "cell_type": "code",
   "execution_count": null,
   "metadata": {},
   "outputs": [],
   "source": []
  },
  {
   "cell_type": "code",
   "execution_count": null,
   "metadata": {},
   "outputs": [],
   "source": []
  },
  {
   "cell_type": "code",
   "execution_count": null,
   "metadata": {},
   "outputs": [],
   "source": []
  },
  {
   "cell_type": "code",
   "execution_count": null,
   "metadata": {},
   "outputs": [],
   "source": []
  },
  {
   "cell_type": "code",
   "execution_count": null,
   "metadata": {},
   "outputs": [],
   "source": []
  },
  {
   "cell_type": "code",
   "execution_count": null,
   "metadata": {},
   "outputs": [],
   "source": []
  }
 ],
 "metadata": {
  "kernelspec": {
   "display_name": "Python 3",
   "language": "python",
   "name": "python3"
  },
  "language_info": {
   "codemirror_mode": {
    "name": "ipython",
    "version": 3
   },
   "file_extension": ".py",
   "mimetype": "text/x-python",
   "name": "python",
   "nbconvert_exporter": "python",
   "pygments_lexer": "ipython3",
   "version": "3.6.5"
  }
 },
 "nbformat": 4,
 "nbformat_minor": 2
}

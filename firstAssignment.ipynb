{
  "nbformat": 4,
  "nbformat_minor": 0,
  "metadata": {
    "colab": {
      "name": "firstAssignment.ipynb",
      "version": "0.3.2",
      "provenance": [],
      "collapsed_sections": [],
      "include_colab_link": true
    },
    "kernelspec": {
      "display_name": "Python 3",
      "language": "python",
      "name": "python3"
    }
  },
  "cells": [
    {
      "cell_type": "markdown",
      "metadata": {
        "id": "view-in-github",
        "colab_type": "text"
      },
      "source": [
        "[View in Colaboratory](https://colab.research.google.com/github/alihussainia/assignmentAiDs/blob/master/firstAssignment.ipynb)"
      ]
    },
    {
      "metadata": {
        "id": "IychMhHOGgrS",
        "colab_type": "text"
      },
      "cell_type": "markdown",
      "source": [
        "# ASSIGNMENT "
      ]
    },
    {
      "metadata": {
        "id": "vnWVsNKwGgrV",
        "colab_type": "text"
      },
      "cell_type": "markdown",
      "source": [
        "<h3> 1 : Declare and initialize a variable name total_marks with a value 500</h3>\n"
      ]
    },
    {
      "metadata": {
        "id": "S-nld8FaGgrY",
        "colab_type": "code",
        "colab": {}
      },
      "cell_type": "code",
      "source": [
        "total_marks = 500"
      ],
      "execution_count": 0,
      "outputs": []
    },
    {
      "metadata": {
        "id": "Fkn5CWa2Ggre",
        "colab_type": "text"
      },
      "cell_type": "markdown",
      "source": [
        "<h3> 2 : Declare and initialize 5 variables name maths , english , urdu , physics and chemisrty with different integer values</h3>"
      ]
    },
    {
      "metadata": {
        "id": "wAWo82yEGgrh",
        "colab_type": "code",
        "colab": {}
      },
      "cell_type": "code",
      "source": [
        "maths = 10\n",
        "english = 85\n",
        "urdu = 85\n",
        "physics = 80\n",
        "chemistry = 90"
      ],
      "execution_count": 0,
      "outputs": []
    },
    {
      "metadata": {
        "id": "9J1gUZQ2Ggrk",
        "colab_type": "text"
      },
      "cell_type": "markdown",
      "source": [
        "<h3>3 : Calculate the obtained marks And assign the value In variable name obtained_marks</h3>"
      ]
    },
    {
      "metadata": {
        "id": "69NIqHHOGgrl",
        "colab_type": "code",
        "colab": {}
      },
      "cell_type": "code",
      "source": [
        "obtained_marks = maths + english + urdu + physics + chemistry"
      ],
      "execution_count": 0,
      "outputs": []
    },
    {
      "metadata": {
        "id": "FOo96A_7SvWZ",
        "colab_type": "code",
        "colab": {
          "base_uri": "https://localhost:8080/",
          "height": 34
        },
        "outputId": "83c9db2f-a16f-4061-989e-ec12ad24986f"
      },
      "cell_type": "code",
      "source": [
        "print (obtained_marks)"
      ],
      "execution_count": 5,
      "outputs": [
        {
          "output_type": "stream",
          "text": [
            "350\n"
          ],
          "name": "stdout"
        }
      ]
    },
    {
      "metadata": {
        "id": "XimJAoMsGgro",
        "colab_type": "text"
      },
      "cell_type": "markdown",
      "source": [
        "<h3>4 : Calculate percentage and assign the value in variable name percentage</h3>"
      ]
    },
    {
      "metadata": {
        "id": "bH2EFguTGgrp",
        "colab_type": "code",
        "colab": {}
      },
      "cell_type": "code",
      "source": [
        "percentage = (obtained_marks / total_marks) * 100"
      ],
      "execution_count": 0,
      "outputs": []
    },
    {
      "metadata": {
        "id": "bEHYMdutUG8W",
        "colab_type": "code",
        "colab": {
          "base_uri": "https://localhost:8080/",
          "height": 34
        },
        "outputId": "de15b1db-7360-4c26-8f2a-900214c438fa"
      },
      "cell_type": "code",
      "source": [
        "H = str((int(percentage))) + \"%\"\n",
        "print (H)"
      ],
      "execution_count": 14,
      "outputs": [
        {
          "output_type": "stream",
          "text": [
            "70%\n"
          ],
          "name": "stdout"
        }
      ]
    },
    {
      "metadata": {
        "id": "69NGS1DaGgrt",
        "colab_type": "text"
      },
      "cell_type": "markdown",
      "source": [
        "<h3>5 : Declare and initialize an empty variable name grade </h3>"
      ]
    },
    {
      "metadata": {
        "id": "YrCPxc-JGgru",
        "colab_type": "code",
        "colab": {}
      },
      "cell_type": "code",
      "source": [
        "grade = \" \""
      ],
      "execution_count": 0,
      "outputs": []
    },
    {
      "metadata": {
        "id": "tlYGyvrIX-ni",
        "colab_type": "code",
        "colab": {
          "base_uri": "https://localhost:8080/",
          "height": 34
        },
        "outputId": "5a969a61-20a0-4c04-b378-6809613f6829"
      },
      "cell_type": "code",
      "source": [
        "print (grade)"
      ],
      "execution_count": 10,
      "outputs": [
        {
          "output_type": "stream",
          "text": [
            " \n"
          ],
          "name": "stdout"
        }
      ]
    },
    {
      "metadata": {
        "id": "p7M_F5HDGgrw",
        "colab_type": "text"
      },
      "cell_type": "markdown",
      "source": [
        "<h3>6 : assign a vlue to grade by checking the following conditions:: </h3>\n",
        "<h3>if % is greater then and equal to 90 and less then 100 grade is A+ </h3>\n",
        "<h3>if % is greater then and equal to 80 and less then 90 grade is A </h3>\n",
        "<h3>if % is greater then and equal to 70 and less then 80 grade is B </h3>\n",
        "<h3>if % is greater then and equal to 60 and less then 70 grade is C </h3>\n",
        "<h3>if % is less than 60 grade is FAIL </h3>\n"
      ]
    },
    {
      "metadata": {
        "id": "UPRc1j2SGgrx",
        "colab_type": "code",
        "colab": {
          "base_uri": "https://localhost:8080/",
          "height": 34
        },
        "outputId": "4a5e8bf7-a638-45c8-9ee5-303bd7663055"
      },
      "cell_type": "code",
      "source": [
        "if percentage >= 90 :\n",
        "  grade = \"A+\" \n",
        "\n",
        "elif percentage < 90 and percentage >= 80:\n",
        "  grade = \"A\" \n",
        "    \n",
        "elif percentage < 80 and percentage >= 70:\n",
        "  grade = \"B\" \n",
        "  \n",
        "elif percentage < 70 and percentage >= 60:\n",
        "  grade = \"C\" \n",
        "  \n",
        "else:  grade = \"FAIL\"\n",
        "  \n",
        "print (grade)  \n",
        "  \n",
        "          "
      ],
      "execution_count": 11,
      "outputs": [
        {
          "output_type": "stream",
          "text": [
            "B\n"
          ],
          "name": "stdout"
        }
      ]
    },
    {
      "metadata": {
        "id": "wM8txw89Ggr0",
        "colab_type": "text"
      },
      "cell_type": "markdown",
      "source": [
        "<h3>7 : Print grade percentage and obtained marks</h3>"
      ]
    },
    {
      "metadata": {
        "id": "xHcfxGcEGgr2",
        "colab_type": "code",
        "colab": {
          "base_uri": "https://localhost:8080/",
          "height": 67
        },
        "outputId": "caa418b1-c98c-41d2-c2b0-ac0dd5d394f9"
      },
      "cell_type": "code",
      "source": [
        "print (\"GRADE = \",grade)\n",
        "print (\"PERCENTAGE = \", H)\n",
        "print (\"OBTAINED MARKS = \",obtained_marks)"
      ],
      "execution_count": 15,
      "outputs": [
        {
          "output_type": "stream",
          "text": [
            "GRADE =  B\n",
            "PERCENTAGE =  70%\n",
            "OBTAINED MARKS =  350\n"
          ],
          "name": "stdout"
        }
      ]
    }
  ]
}
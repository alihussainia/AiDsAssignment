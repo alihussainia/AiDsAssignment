{
  "nbformat": 4,
  "nbformat_minor": 0,
  "metadata": {
    "colab": {
      "name": "firstAssignment.ipynb",
      "version": "0.3.2",
      "provenance": [],
      "collapsed_sections": []
    },
    "kernelspec": {
      "display_name": "Python 3",
      "language": "python",
      "name": "python3"
    }
  },
  "cells": [
    {
      "metadata": {
        "id": "IychMhHOGgrS",
        "colab_type": "text"
      },
      "cell_type": "markdown",
      "source": [
        "# ASSIGNMENT "
      ]
    },
    {
      "metadata": {
        "id": "vnWVsNKwGgrV",
        "colab_type": "text"
      },
      "cell_type": "markdown",
      "source": [
        "<h3> 1 : Declare and initialize a variable name total_marks with a value 500</h3>\n"
      ]
    },
    {
      "metadata": {
        "id": "S-nld8FaGgrY",
        "colab_type": "code",
        "colab": {}
      },
      "cell_type": "code",
      "source": [
        "total_marks = 500"
      ],
      "execution_count": 0,
      "outputs": []
    },
    {
      "metadata": {
        "id": "Fkn5CWa2Ggre",
        "colab_type": "text"
      },
      "cell_type": "markdown",
      "source": [
        "<h3> 2 : Declare and initialize 5 variables name maths , english , urdu , physics and chemisrty with different integer values</h3>"
      ]
    },
    {
      "metadata": {
        "id": "wAWo82yEGgrh",
        "colab_type": "code",
        "colab": {}
      },
      "cell_type": "code",
      "source": [
        "maths = 10\n",
        "english = 85\n",
        "urdu = 85\n",
        "physics = 80\n",
        "chemistry = 90"
      ],
      "execution_count": 0,
      "outputs": []
    },
    {
      "metadata": {
        "id": "9J1gUZQ2Ggrk",
        "colab_type": "text"
      },
      "cell_type": "markdown",
      "source": [
        "<h3>3 : Calculate the obtained marks And assign the value In variable name obtained_marks</h3>"
      ]
    },
    {
      "metadata": {
        "id": "69NIqHHOGgrl",
        "colab_type": "code",
        "colab": {}
      },
      "cell_type": "code",
      "source": [
        "obtained_marks = maths + english + urdu + physics + chemistry"
      ],
      "execution_count": 0,
      "outputs": []
    },
    {
      "metadata": {
        "id": "FOo96A_7SvWZ",
        "colab_type": "code",
        "colab": {
          "base_uri": "https://localhost:8080/",
          "height": 35
        },
        "outputId": "72d17601-733a-4fde-f078-e24e9557d250"
      },
      "cell_type": "code",
      "source": [
        "print (obtained_marks)"
      ],
      "execution_count": 39,
      "outputs": [
        {
          "output_type": "stream",
          "text": [
            "350\n"
          ],
          "name": "stdout"
        }
      ]
    },
    {
      "metadata": {
        "id": "XimJAoMsGgro",
        "colab_type": "text"
      },
      "cell_type": "markdown",
      "source": [
        "<h3>4 : Calculate percentage and assign the value in variable name percentage</h3>"
      ]
    },
    {
      "metadata": {
        "id": "bH2EFguTGgrp",
        "colab_type": "code",
        "colab": {}
      },
      "cell_type": "code",
      "source": [
        "percentage = obtained_marks / total_marks"
      ],
      "execution_count": 0,
      "outputs": []
    },
    {
      "metadata": {
        "id": "bEHYMdutUG8W",
        "colab_type": "code",
        "colab": {
          "base_uri": "https://localhost:8080/",
          "height": 35
        },
        "outputId": "ef3e251e-974c-4154-f594-ac04f3d1f5a5"
      },
      "cell_type": "code",
      "source": [
        "print (percentage)"
      ],
      "execution_count": 41,
      "outputs": [
        {
          "output_type": "stream",
          "text": [
            "0.7\n"
          ],
          "name": "stdout"
        }
      ]
    },
    {
      "metadata": {
        "id": "69NGS1DaGgrt",
        "colab_type": "text"
      },
      "cell_type": "markdown",
      "source": [
        "<h3>5 : Declare and initialize an empty variable name grade </h3>"
      ]
    },
    {
      "metadata": {
        "id": "YrCPxc-JGgru",
        "colab_type": "code",
        "colab": {}
      },
      "cell_type": "code",
      "source": [
        "grade = \" \""
      ],
      "execution_count": 0,
      "outputs": []
    },
    {
      "metadata": {
        "id": "tlYGyvrIX-ni",
        "colab_type": "code",
        "colab": {
          "base_uri": "https://localhost:8080/",
          "height": 35
        },
        "outputId": "61ef64ff-c204-4be2-b194-4d70d1048222"
      },
      "cell_type": "code",
      "source": [
        "print (grade)"
      ],
      "execution_count": 43,
      "outputs": [
        {
          "output_type": "stream",
          "text": [
            " \n"
          ],
          "name": "stdout"
        }
      ]
    },
    {
      "metadata": {
        "id": "p7M_F5HDGgrw",
        "colab_type": "text"
      },
      "cell_type": "markdown",
      "source": [
        "<h3>6 : assign a vlue to grade by checking the following conditions:: </h3>\n",
        "<h3>if % is greater then and equal to 90 and less then 100 grade is A+ </h3>\n",
        "<h3>if % is greater then and equal to 80 and less then 90 grade is A </h3>\n",
        "<h3>if % is greater then and equal to 70 and less then 80 grade is B </h3>\n",
        "<h3>if % is greater then and equal to 60 and less then 70 grade is C </h3>\n",
        "<h3>if % is less than 60 grade is FAIL </h3>\n"
      ]
    },
    {
      "metadata": {
        "id": "UPRc1j2SGgrx",
        "colab_type": "code",
        "colab": {
          "base_uri": "https://localhost:8080/",
          "height": 35
        },
        "outputId": "0604470f-7003-42b6-cc16-90726cf6147d"
      },
      "cell_type": "code",
      "source": [
        "if .90 <= percentage < 1 :\n",
        "  grade = \"A+\" \n",
        "\n",
        "elif .80 <= percentage < .90:\n",
        "  grade = \"A\" \n",
        "    \n",
        "elif .70 <= percentage < .80:\n",
        "  grade = \"B\" \n",
        "  \n",
        "elif .60 <= percentage < .70:\n",
        "  grade = \"C\" \n",
        "  \n",
        "else:  grade = \"FAIL\"\n",
        "  \n",
        "print (grade)  \n",
        "  \n",
        "          "
      ],
      "execution_count": 46,
      "outputs": [
        {
          "output_type": "stream",
          "text": [
            "B\n"
          ],
          "name": "stdout"
        }
      ]
    },
    {
      "metadata": {
        "id": "wM8txw89Ggr0",
        "colab_type": "text"
      },
      "cell_type": "markdown",
      "source": [
        "<h3>7 : Print grade percentage and obtained marks</h3>"
      ]
    },
    {
      "metadata": {
        "id": "xHcfxGcEGgr2",
        "colab_type": "code",
        "colab": {
          "base_uri": "https://localhost:8080/",
          "height": 69
        },
        "outputId": "3e7c5c90-2df8-44bb-b850-1d2e56d738b0"
      },
      "cell_type": "code",
      "source": [
        "print (\"GRADE = \",grade)\n",
        "print (\"PERCENTAGE = \",percentage * 100,\"%\")\n",
        "print (\"OBTAINED MARKS = \",obtained_marks)"
      ],
      "execution_count": 10,
      "outputs": [
        {
          "output_type": "stream",
          "text": [
            "GRADE =  A\n",
            "PERCENTAGE =  88.0 %\n",
            "OBTAINED MARKS =  440\n"
          ],
          "name": "stdout"
        }
      ]
    }
  ]
}
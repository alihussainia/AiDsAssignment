{
  "nbformat": 4,
  "nbformat_minor": 0,
  "metadata": {
    "colab": {
      "name": "firstAssignment.ipynb",
      "version": "0.3.2",
      "provenance": [],
      "collapsed_sections": []
    },
    "kernelspec": {
      "display_name": "Python 3",
      "language": "python",
      "name": "python3"
    }
  },
  "cells": [
    {
      "metadata": {
        "id": "IychMhHOGgrS",
        "colab_type": "text"
      },
      "cell_type": "markdown",
      "source": [
        "# ASSIGNMENT "
      ]
    },
    {
      "metadata": {
        "id": "vnWVsNKwGgrV",
        "colab_type": "text"
      },
      "cell_type": "markdown",
      "source": [
        "<h3> 1 : Declare and initialize a variable name total_marks with a value 500</h3>\n"
      ]
    },
    {
      "metadata": {
        "id": "S-nld8FaGgrY",
        "colab_type": "code",
        "colab": {}
      },
      "cell_type": "code",
      "source": [
        "total_marks = 500"
      ],
      "execution_count": 0,
      "outputs": []
    },
    {
      "metadata": {
        "id": "Fkn5CWa2Ggre",
        "colab_type": "text"
      },
      "cell_type": "markdown",
      "source": [
        "<h3> 2 : Declare and initialize 5 variables name maths , english , urdu , physics and chemisrty with different integer values</h3>"
      ]
    },
    {
      "metadata": {
        "id": "wAWo82yEGgrh",
        "colab_type": "code",
        "colab": {}
      },
      "cell_type": "code",
      "source": [
        "maths = 100\n",
        "english = 85\n",
        "urdu = 85\n",
        "physics = 80\n",
        "chemistry = 90"
      ],
      "execution_count": 0,
      "outputs": []
    },
    {
      "metadata": {
        "id": "9J1gUZQ2Ggrk",
        "colab_type": "text"
      },
      "cell_type": "markdown",
      "source": [
        "<h3>3 : Calculate the obtained marks And assign the value In variable name obtained_marks</h3>"
      ]
    },
    {
      "metadata": {
        "id": "69NIqHHOGgrl",
        "colab_type": "code",
        "colab": {}
      },
      "cell_type": "code",
      "source": [
        "obtained_marks = maths + english + urdu + physics + chemistry"
      ],
      "execution_count": 0,
      "outputs": []
    },
    {
      "metadata": {
        "id": "FOo96A_7SvWZ",
        "colab_type": "code",
        "colab": {
          "base_uri": "https://localhost:8080/",
          "height": 34
        },
        "outputId": "26f9d7b1-fbab-4a7e-f6a6-4f4b6e4a4d56"
      },
      "cell_type": "code",
      "source": [
        "print (obtained_marks)"
      ],
      "execution_count": 11,
      "outputs": [
        {
          "output_type": "stream",
          "text": [
            "440\n"
          ],
          "name": "stdout"
        }
      ]
    },
    {
      "metadata": {
        "id": "XimJAoMsGgro",
        "colab_type": "text"
      },
      "cell_type": "markdown",
      "source": [
        "<h3>4 : Calculate percentage and assign the value in variable name percentage</h3>"
      ]
    },
    {
      "metadata": {
        "id": "bH2EFguTGgrp",
        "colab_type": "code",
        "colab": {}
      },
      "cell_type": "code",
      "source": [
        "percentage = obtained_marks / total_marks"
      ],
      "execution_count": 0,
      "outputs": []
    },
    {
      "metadata": {
        "id": "bEHYMdutUG8W",
        "colab_type": "code",
        "colab": {
          "base_uri": "https://localhost:8080/",
          "height": 34
        },
        "outputId": "73f21786-b32a-4ccd-ae0d-0707ff4403b8"
      },
      "cell_type": "code",
      "source": [
        "print (percentage)"
      ],
      "execution_count": 13,
      "outputs": [
        {
          "output_type": "stream",
          "text": [
            "0.88\n"
          ],
          "name": "stdout"
        }
      ]
    },
    {
      "metadata": {
        "id": "69NGS1DaGgrt",
        "colab_type": "text"
      },
      "cell_type": "markdown",
      "source": [
        "<h3>5 : Declare and initialize an empty variable name grade </h3>"
      ]
    },
    {
      "metadata": {
        "id": "YrCPxc-JGgru",
        "colab_type": "code",
        "colab": {}
      },
      "cell_type": "code",
      "source": [
        "grade = \" \""
      ],
      "execution_count": 0,
      "outputs": []
    },
    {
      "metadata": {
        "id": "tlYGyvrIX-ni",
        "colab_type": "code",
        "colab": {
          "base_uri": "https://localhost:8080/",
          "height": 35
        },
        "outputId": "e6a4440d-d7f3-465a-c356-725f5bed5027"
      },
      "cell_type": "code",
      "source": [
        "print (grade)"
      ],
      "execution_count": 10,
      "outputs": [
        {
          "output_type": "stream",
          "text": [
            " \n"
          ],
          "name": "stdout"
        }
      ]
    },
    {
      "metadata": {
        "id": "p7M_F5HDGgrw",
        "colab_type": "text"
      },
      "cell_type": "markdown",
      "source": [
        "<h3>6 : assign a vlue to grade by checking the following conditions:: </h3>\n",
        "<h3>if % is greater then and equal to 90 and less then 100 grade is A+ </h3>\n",
        "<h3>if % is greater then and equal to 80 and less then 90 grade is A </h3>\n",
        "<h3>if % is greater then and equal to 70 and less then 80 grade is B </h3>\n",
        "<h3>if % is greater then and equal to 60 and less then 70 grade is C </h3>\n",
        "<h3>if % is less than 60 grade is FAIL </h3>\n"
      ]
    },
    {
      "metadata": {
        "id": "UPRc1j2SGgrx",
        "colab_type": "code",
        "colab": {
          "base_uri": "https://localhost:8080/",
          "height": 34
        },
        "outputId": "b3c96711-cc67-4889-e725-e59572d62896"
      },
      "cell_type": "code",
      "source": [
        "if .90 < percentage < 1 :\n",
        "  grade = \"A+\" \n",
        "\n",
        "elif .80 < percentage < .90:\n",
        "  grade = \"A\" \n",
        "    \n",
        "elif .70 < percentage < .80:\n",
        "  grade = \"B\" \n",
        "  \n",
        "elif .60 < percentage < .70:\n",
        "  grade = \"C\" \n",
        "  \n",
        "else:  grade = \"FAIL\"\n",
        "  \n",
        "print (grade)  \n",
        "  \n",
        "          "
      ],
      "execution_count": 15,
      "outputs": [
        {
          "output_type": "stream",
          "text": [
            "A\n"
          ],
          "name": "stdout"
        }
      ]
    },
    {
      "metadata": {
        "id": "wM8txw89Ggr0",
        "colab_type": "text"
      },
      "cell_type": "markdown",
      "source": [
        "<h3>7 : Print grade percentage and obtained marks</h3>"
      ]
    },
    {
      "metadata": {
        "id": "xHcfxGcEGgr2",
        "colab_type": "code",
        "colab": {
          "base_uri": "https://localhost:8080/",
          "height": 68
        },
        "outputId": "f9eee8ef-39da-4993-c268-d002f2c5b8ae"
      },
      "cell_type": "code",
      "source": [
        "print (\"GRADE = \",grade)\n",
        "print (\"PERCENTAGE = \",percentage * 100,\"%\")\n",
        "print (\"OBTAINED MARKS = \",obtained_marks)"
      ],
      "execution_count": 28,
      "outputs": [
        {
          "output_type": "stream",
          "text": [
            "GRADE =  A\n",
            "PERCENTAGE =  88.0 %\n",
            "OBTAINED MARKS =  440\n"
          ],
          "name": "stdout"
        }
      ]
    }
  ]
}